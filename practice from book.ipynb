{
 "cells": [
  {
   "cell_type": "code",
   "execution_count": null,
   "metadata": {},
   "outputs": [],
   "source": [
    "\"\"\"\n",
    "Plot the block mean of an image\n",
    "================================\n",
    "\n",
    "An example showing how to use broad-casting to plot the mean of\n",
    "blocks of an image.\n",
    "\"\"\"\n",
    "\n",
    "import numpy as np\n",
    "import scipy.misc\n",
    "from scipy import ndimage\n",
    "import matplotlib.pyplot as plt\n",
    "\n",
    "f = scipy.misc.face(gray=True)\n",
    "sx, sy = f.shape\n",
    "X, Y = np.ogrid[0:sx, 0:sy]\n",
    "\n",
    "regions = sy//6 * (X//4) + Y//6\n",
    "block_mean = ndimage.mean(f, labels=regions,\n",
    "                          index=np.arange(1, regions.max() +1))\n",
    "block_mean.shape = (sx//4, sy//6)\n",
    "\n",
    "plt.figure(figsize=(5, 5))\n",
    "plt.imshow(block_mean, cmap=plt.cm.gray)\n",
    "plt.axis('off')\n",
    "\n",
    "plt.show()\n"
   ]
  },
  {
   "cell_type": "code",
   "execution_count": null,
   "metadata": {},
   "outputs": [],
   "source": [
    "import os\n",
    "import glob\n",
    "img_dir = \".\" \n",
    "data_path = os.path.join(img_dir,'*g')\n",
    "files = glob.glob(data_path)\n",
    "data = []\n",
    "for f1 in files:\n",
    "    img = Desktop/New folder/Python practice.imread(f1)\n",
    "    data.append(img)\n"
   ]
  },
  {
   "cell_type": "code",
   "execution_count": null,
   "metadata": {},
   "outputs": [],
   "source": [
    "import glob\n",
    "\n",
    "images = [glob.imread(file) for file in glob.glob(\"Desktop/New folder/Python practice/*.png\")]"
   ]
  },
  {
   "cell_type": "code",
   "execution_count": null,
   "metadata": {},
   "outputs": [],
   "source": [
    "import glob \n",
    "import sys\n",
    "while 1 :\n",
    "    filename = raw_input(\"Enter the file name in which images are \t\t        present = \")\n",
    "    for img in glob.glob(filename+'/*.*'):\n",
    "        try :\n",
    "            var_img = cv2.imread(img)\n",
    "            cv2.imshow(str(img) , var_img)\n",
    "            cv2.waitKey(0)\n",
    "            cv2.destroyAllWindows()\n",
    "        \n",
    "        except Exception as e:\n",
    "            print (e)\n",
    "    user_input = raw_input(\"do you want to read another folder = \")\n",
    "    if user_input == 'no':\n",
    "        break"
   ]
  },
  {
   "cell_type": "code",
   "execution_count": null,
   "metadata": {},
   "outputs": [],
   "source": [
    "%matplotlib inline"
   ]
  },
  {
   "cell_type": "code",
   "execution_count": null,
   "metadata": {},
   "outputs": [],
   "source": [
    "import matplotlib.pyplot as plt\n",
    "plt.plot(np.random.randn(50).cumsum())"
   ]
  },
  {
   "cell_type": "code",
   "execution_count": null,
   "metadata": {},
   "outputs": [],
   "source": [
    "import numpy as np\n",
    "x = np.array((3,5))\n",
    "array = x\n",
    "for x in array:\n",
    "    if x < pivot:\n",
    "        less.append(x)\n",
    "    else:\n",
    "        greater.append(x)"
   ]
  },
  {
   "cell_type": "code",
   "execution_count": null,
   "metadata": {},
   "outputs": [],
   "source": [
    "# load image and convert to and from NumPy array\n",
    "from PIL import Image\n",
    "from numpy import asarray\n",
    "# load the image\n",
    "image = Image.open('download (1).jpg')\n",
    "# convert image to numpy array\n",
    "data = asarray(image)\n",
    "# summarize shape\n",
    "print(data.shape)\n",
    "# create Pillow image\n",
    "image2 = Image.fromarray(data)\n",
    "# summarize image details\n",
    "print(image2.format)\n",
    "print(image2.mode)\n",
    "print(image2.size)\n",
    "image.show()"
   ]
  },
  {
   "cell_type": "code",
   "execution_count": null,
   "metadata": {},
   "outputs": [],
   "source": [
    "z1 = ds.loc[lambda df: df.x == 1].z\n",
    "z0 = ds.loc[lambda df: df.x == 0].z\n",
    "\n",
    "sns.distplot(z1, label=\"x=1\")\n",
    "sns.distplot(z0, label=\"x=0\")\n",
    "\n",
    "plt.legend()"
   ]
  },
  {
   "cell_type": "code",
   "execution_count": null,
   "metadata": {},
   "outputs": [],
   "source": [
    "# Define the model\n",
    "fd2 = StructuralCausalModel({\n",
    "    \"u\": lambda n_samples: np.random.binomial(n=1, p=0.5, size=n_samples),\n",
    "    \"x\": discrete_model([\"u\"], {(0,): (1.00,0.00), (1,): (0.00, 1.00)}),\n",
    "    \"z\": lambda x, n_samples: np.where(\n",
    "        x == 0,\n",
    "        np.random.triangular(0,0,1, size=n_samples),\n",
    "        np.random.triangular(0,1,1, size=n_samples),\n",
    "    ),\n",
    "    \"y\": lambda z, u, n_samples: np.where(\n",
    "        u == 0, \n",
    "        1-(4*(z - 0.5)**2),\n",
    "        (4*(z - 0.5)**2)\n",
    "    ),\n",
    "})\n",
    "\n",
    "# sample from the model\n",
    "n = int(10e3)\n",
    "ds = fd2.sample(n)\n",
    "\n",
    "# evaluate the model\n",
    "print(\"Different estimates of the ATE\")\n",
    "print(\"------------------------------\")\n",
    "print(\"Naive estimator: {:.3f}\".format(estimate_conditional_expectation(ds, \"x\", \"y\")[0]))\n",
    "print(\"AB test: {:.3f}\".format(ab_test(fd2, \"x\", \"y\", n=n)[0]))\n",
    "print(\"Linear test: {:.3f}\".format(estimate_ate_frontdoor_linear(ds, \"x\", \"y\", \"z\")))\n",
    "print(\"Non-linear: {:.3f}\".format(\n",
    "    estimate_intervention_frontdoor_nonlinear(\n",
    "        ds, \"x\", \"y\", [\"z\"], model_y_zx=RandomForestRegressor())))\n"
   ]
  },
  {
   "cell_type": "code",
   "execution_count": null,
   "metadata": {},
   "outputs": [],
   "source": [
    "# first load some standard libraries\n",
    "import numpy as np\n",
    "import pandas as pd\n",
    "import matplotlib.pyplot as plt\n",
    "import seaborn as sns\n",
    "\n",
    "%matplotlib inline\n",
    "%load_ext autoreload\n",
    "%autoreload 2"
   ]
  },
  {
   "cell_type": "code",
   "execution_count": null,
   "metadata": {},
   "outputs": [],
   "source": [
    "from causalgraphicalmodels import CausalGraphicalModel\n",
    "\n",
    "system_with_hidden_confounder = CausalGraphicalModel(\n",
    "    nodes=[\"x\", \"y\", \"z\"],\n",
    "    edges=[(\"x\", \"z\"), (\"z\", \"y\")],\n",
    "    latent_edges=[(\"x\", \"y\")]\n",
    ")\n",
    "\n",
    "system_with_hidden_confounder.draw()\n",
    "\n"
   ]
  },
  {
   "cell_type": "code",
   "execution_count": null,
   "metadata": {},
   "outputs": [],
   "source": [
    "# first, import some standard libraries\n",
    "\n",
    "import numpy as np\n",
    "import pandas as pd\n",
    "import matplotlib.pyplot as plt\n",
    "import seaborn as sns\n",
    "\n",
    "%matplotlib inline\n"
   ]
  },
  {
   "cell_type": "code",
   "execution_count": null,
   "metadata": {},
   "outputs": [],
   "source": [
    "def f1(): \n",
    "    return np.random.binomial(n=1,p=0.3)\n",
    "\n",
    "def f2(x1):\n",
    "    return np.random.normal(loc=x1, scale=0.1)\n",
    "    \n",
    "def f3(x2):\n",
    "    return x2 ** 2\n",
    "\n",
    "x1 = f1()\n",
    "x2 = f2(x1)\n",
    "x3 = f3(x2)\n",
    "\n",
    "print(\"x1 = {}, x2 = {:.2f}, x3 = {:.2f}\".format(x1, x2, x3))"
   ]
  },
  {
   "cell_type": "code",
   "execution_count": null,
   "metadata": {},
   "outputs": [],
   "source": [
    "from causalgraphicalmodels import CausalGraphicalModel\n",
    "\n",
    "sprinkler = CausalGraphicalModel(\n",
    "    nodes=[\"season\", \"rain\", \"sprinkler\", \"wet\", \"slippery\"],\n",
    "    edges=[\n",
    "        (\"season\", \"rain\"), \n",
    "        (\"season\", \"sprinkler\"), \n",
    "        (\"rain\", \"wet\"),\n",
    "        (\"sprinkler\", \"wet\"), \n",
    "        (\"wet\", \"slippery\")\n",
    "    ]\n",
    ")\n",
    "\n",
    "# draw return a graphviz `dot` object, which jupyter can render\n",
    "sprinkler.draw()\n"
   ]
  },
  {
   "cell_type": "code",
   "execution_count": null,
   "metadata": {},
   "outputs": [],
   "source": [
    "                            "
   ]
  },
  {
   "cell_type": "code",
   "execution_count": null,
   "metadata": {},
   "outputs": [],
   "source": []
  },
  {
   "cell_type": "code",
   "execution_count": null,
   "metadata": {},
   "outputs": [],
   "source": []
  },
  {
   "cell_type": "code",
   "execution_count": null,
   "metadata": {},
   "outputs": [],
   "source": []
  },
  {
   "cell_type": "code",
   "execution_count": null,
   "metadata": {},
   "outputs": [],
   "source": []
  }
 ],
 "metadata": {
  "kernelspec": {
   "display_name": "Python 3",
   "language": "python",
   "name": "python3"
  },
  "language_info": {
   "codemirror_mode": {
    "name": "ipython",
    "version": 3
   },
   "file_extension": ".py",
   "mimetype": "text/x-python",
   "name": "python",
   "nbconvert_exporter": "python",
   "pygments_lexer": "ipython3",
   "version": "3.7.4"
  }
 },
 "nbformat": 4,
 "nbformat_minor": 2
}
